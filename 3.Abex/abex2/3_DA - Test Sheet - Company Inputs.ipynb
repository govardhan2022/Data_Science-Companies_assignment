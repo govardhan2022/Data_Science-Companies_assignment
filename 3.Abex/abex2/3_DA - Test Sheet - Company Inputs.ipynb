{
 "cells": [
  {
   "cell_type": "code",
   "execution_count": 1,
   "id": "9d09a3fc-f742-49bb-a2d1-44c19eef0149",
   "metadata": {},
   "outputs": [],
   "source": [
    "import matplotlib.pyplot as plt\n",
    "import seaborn as sns\n",
    "import pandas as pd"
   ]
  },
  {
   "cell_type": "code",
   "execution_count": 2,
   "id": "bce06918-d55d-4f01-824f-6a7e92999998",
   "metadata": {},
   "outputs": [],
   "source": [
    "df=pd.read_csv(\"3_DA - Test Sheet - Company Inputs.csv\")"
   ]
  },
  {
   "cell_type": "code",
   "execution_count": 3,
   "id": "764897ac-6950-4e3a-82bf-5ed76e55e033",
   "metadata": {},
   "outputs": [
    {
     "data": {
      "text/html": [
       "<div>\n",
       "<style scoped>\n",
       "    .dataframe tbody tr th:only-of-type {\n",
       "        vertical-align: middle;\n",
       "    }\n",
       "\n",
       "    .dataframe tbody tr th {\n",
       "        vertical-align: top;\n",
       "    }\n",
       "\n",
       "    .dataframe thead th {\n",
       "        text-align: right;\n",
       "    }\n",
       "</style>\n",
       "<table border=\"1\" class=\"dataframe\">\n",
       "  <thead>\n",
       "    <tr style=\"text-align: right;\">\n",
       "      <th></th>\n",
       "      <th>Company Name</th>\n",
       "      <th>Person Name</th>\n",
       "      <th>Designation</th>\n",
       "      <th>Person Linkedin</th>\n",
       "    </tr>\n",
       "  </thead>\n",
       "  <tbody>\n",
       "    <tr>\n",
       "      <th>0</th>\n",
       "      <td>BO Street</td>\n",
       "      <td>Kunal Abhishek</td>\n",
       "      <td>Co-Founder</td>\n",
       "      <td>http://www.linkedin.com/in/kunalabhishek</td>\n",
       "    </tr>\n",
       "    <tr>\n",
       "      <th>1</th>\n",
       "      <td>Logiclens Solutions</td>\n",
       "      <td>Ajay Satpathy</td>\n",
       "      <td>Founder and CEO</td>\n",
       "      <td>http://www.linkedin.com/in/ajay-satpathy-6a939...</td>\n",
       "    </tr>\n",
       "    <tr>\n",
       "      <th>2</th>\n",
       "      <td>Adloop Innovations</td>\n",
       "      <td>Karthik Rajendiran</td>\n",
       "      <td>Chief Technology Officer</td>\n",
       "      <td>http://www.linkedin.com/in/karthik-rajendiran-...</td>\n",
       "    </tr>\n",
       "    <tr>\n",
       "      <th>3</th>\n",
       "      <td>Kimipost</td>\n",
       "      <td>Rajesh Singhal</td>\n",
       "      <td>Co-Founder @ Kimipost \"Empowering eCommerce Sh...</td>\n",
       "      <td>http://www.linkedin.com/in/rajesh-singhal-2bb8...</td>\n",
       "    </tr>\n",
       "    <tr>\n",
       "      <th>4</th>\n",
       "      <td>Spacempact</td>\n",
       "      <td>Niyati Shah</td>\n",
       "      <td>Co-Founder</td>\n",
       "      <td>http://www.linkedin.com/in/niyati-shah-89b076203</td>\n",
       "    </tr>\n",
       "  </tbody>\n",
       "</table>\n",
       "</div>"
      ],
      "text/plain": [
       "          Company Name         Person Name  \\\n",
       "0            BO Street      Kunal Abhishek   \n",
       "1  Logiclens Solutions       Ajay Satpathy   \n",
       "2   Adloop Innovations  Karthik Rajendiran   \n",
       "3             Kimipost      Rajesh Singhal   \n",
       "4           Spacempact         Niyati Shah   \n",
       "\n",
       "                                         Designation  \\\n",
       "0                                         Co-Founder   \n",
       "1                                    Founder and CEO   \n",
       "2                           Chief Technology Officer   \n",
       "3  Co-Founder @ Kimipost \"Empowering eCommerce Sh...   \n",
       "4                                         Co-Founder   \n",
       "\n",
       "                                     Person Linkedin  \n",
       "0           http://www.linkedin.com/in/kunalabhishek  \n",
       "1  http://www.linkedin.com/in/ajay-satpathy-6a939...  \n",
       "2  http://www.linkedin.com/in/karthik-rajendiran-...  \n",
       "3  http://www.linkedin.com/in/rajesh-singhal-2bb8...  \n",
       "4   http://www.linkedin.com/in/niyati-shah-89b076203  "
      ]
     },
     "execution_count": 3,
     "metadata": {},
     "output_type": "execute_result"
    }
   ],
   "source": [
    "df.head()"
   ]
  },
  {
   "cell_type": "code",
   "execution_count": 4,
   "id": "3e9cf31f-36a5-44f5-87f3-6e9f99c239f0",
   "metadata": {},
   "outputs": [
    {
     "data": {
      "text/plain": [
       "16157"
      ]
     },
     "execution_count": 4,
     "metadata": {},
     "output_type": "execute_result"
    }
   ],
   "source": [
    "len(df['Company Name'].unique())"
   ]
  },
  {
   "cell_type": "code",
   "execution_count": 5,
   "id": "c328f34d-4555-4030-a22d-3b15b296172b",
   "metadata": {},
   "outputs": [
    {
     "name": "stdout",
     "output_type": "stream",
     "text": [
      "<class 'pandas.core.frame.DataFrame'>\n",
      "RangeIndex: 31680 entries, 0 to 31679\n",
      "Data columns (total 4 columns):\n",
      " #   Column           Non-Null Count  Dtype \n",
      "---  ------           --------------  ----- \n",
      " 0   Company Name     31679 non-null  object\n",
      " 1   Person Name      31679 non-null  object\n",
      " 2   Designation      31679 non-null  object\n",
      " 3   Person Linkedin  31676 non-null  object\n",
      "dtypes: object(4)\n",
      "memory usage: 990.1+ KB\n"
     ]
    }
   ],
   "source": [
    "df.info()"
   ]
  },
  {
   "cell_type": "code",
   "execution_count": 6,
   "id": "b5caba00-6625-40bb-b5da-1598eb41e55a",
   "metadata": {},
   "outputs": [
    {
     "data": {
      "text/html": [
       "<div>\n",
       "<style scoped>\n",
       "    .dataframe tbody tr th:only-of-type {\n",
       "        vertical-align: middle;\n",
       "    }\n",
       "\n",
       "    .dataframe tbody tr th {\n",
       "        vertical-align: top;\n",
       "    }\n",
       "\n",
       "    .dataframe thead th {\n",
       "        text-align: right;\n",
       "    }\n",
       "</style>\n",
       "<table border=\"1\" class=\"dataframe\">\n",
       "  <thead>\n",
       "    <tr style=\"text-align: right;\">\n",
       "      <th></th>\n",
       "      <th>Company Name</th>\n",
       "      <th>Person Name</th>\n",
       "      <th>Designation</th>\n",
       "      <th>Person Linkedin</th>\n",
       "    </tr>\n",
       "  </thead>\n",
       "  <tbody>\n",
       "    <tr>\n",
       "      <th>count</th>\n",
       "      <td>31679</td>\n",
       "      <td>31679</td>\n",
       "      <td>31679</td>\n",
       "      <td>31676</td>\n",
       "    </tr>\n",
       "    <tr>\n",
       "      <th>unique</th>\n",
       "      <td>16156</td>\n",
       "      <td>16864</td>\n",
       "      <td>3256</td>\n",
       "      <td>18594</td>\n",
       "    </tr>\n",
       "    <tr>\n",
       "      <th>top</th>\n",
       "      <td>Friend</td>\n",
       "      <td>Abhishek Kumar</td>\n",
       "      <td>Co-Founder</td>\n",
       "      <td>http://www.linkedin.com/in/nikhil71</td>\n",
       "    </tr>\n",
       "    <tr>\n",
       "      <th>freq</th>\n",
       "      <td>23</td>\n",
       "      <td>25</td>\n",
       "      <td>4576</td>\n",
       "      <td>11</td>\n",
       "    </tr>\n",
       "  </tbody>\n",
       "</table>\n",
       "</div>"
      ],
      "text/plain": [
       "       Company Name     Person Name Designation  \\\n",
       "count         31679           31679       31679   \n",
       "unique        16156           16864        3256   \n",
       "top          Friend  Abhishek Kumar  Co-Founder   \n",
       "freq             23              25        4576   \n",
       "\n",
       "                            Person Linkedin  \n",
       "count                                 31676  \n",
       "unique                                18594  \n",
       "top     http://www.linkedin.com/in/nikhil71  \n",
       "freq                                     11  "
      ]
     },
     "execution_count": 6,
     "metadata": {},
     "output_type": "execute_result"
    }
   ],
   "source": [
    "df.describe()"
   ]
  },
  {
   "cell_type": "code",
   "execution_count": 7,
   "id": "8e1dcd6f-a91e-4e97-aa1a-8d91d07b8ccd",
   "metadata": {},
   "outputs": [],
   "source": [
    "import warnings\n",
    "\n",
    "# Suppress warnings\n",
    "warnings.filterwarnings(\"ignore\")"
   ]
  },
  {
   "cell_type": "markdown",
   "id": "0cb11a7c-fbf4-40d7-bcfd-6f9816b2e919",
   "metadata": {},
   "source": [
    "### Data Visualization"
   ]
  },
  {
   "cell_type": "code",
   "execution_count": 9,
   "id": "b276da3e-3446-4fb3-93a4-d26c932dfe88",
   "metadata": {},
   "outputs": [
    {
     "data": {
      "image/png": "[encoded data removed]",
      "text/plain": [
       "<Figure size 1200x600 with 1 Axes>"
      ]
     },
     "metadata": {},
     "output_type": "display_data"
    }
   ],
   "source": [
    "plt.figure(figsize=(12, 6))\n",
    "industry_counts = df[\"Company Name\"].value_counts().head(10)  # Top 10 company names\n",
    "sns.barplot(x=industry_counts.values, y=industry_counts.index, palette=\"viridis\")\n",
    "plt.xlabel(\"Number of Frequencies\")\n",
    "plt.ylabel(\"Company Name\")\n",
    "plt.title(\"Top 10 Company Names by Number of Frequencies\")\n",
    "plt.show()"
   ]
  },
  {
   "cell_type": "code",
   "execution_count": null,
   "id": "a20032ba-a3f2-43b3-a32f-ac1bb20d7525",
   "metadata": {},
   "outputs": [],
   "source": []
  }
 ],
 "metadata": {
  "kernelspec": {
   "display_name": "Python 3 (ipykernel)",
   "language": "python",
   "name": "python3"
  },
  "language_info": {
   "codemirror_mode": {
    "name": "ipython",
    "version": 3
   },
   "file_extension": ".py",
   "mimetype": "text/x-python",
   "name": "python",
   "nbconvert_exporter": "python",
   "pygments_lexer": "ipython3",
   "version": "3.12.4"
  }
 },
 "nbformat": 4,
 "nbformat_minor": 5
}

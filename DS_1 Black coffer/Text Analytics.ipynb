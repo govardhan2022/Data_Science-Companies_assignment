{
 "cells": [
  {
   "cell_type": "code",
   "execution_count": 1,
   "id": "8f818427-aa89-483f-b04c-d7415ee982be",
   "metadata": {},
   "outputs": [
    {
     "name": "stderr",
     "output_type": "stream",
     "text": [
      "[nltk_data] Downloading package punkt to\n",
      "[nltk_data]     C:\\Users\\USER\\AppData\\Roaming\\nltk_data...\n",
      "[nltk_data]   Package punkt is already up-to-date!\n"
     ]
    },
    {
     "data": {
      "text/plain": [
       "True"
      ]
     },
     "execution_count": 1,
     "metadata": {},
     "output_type": "execute_result"
    }
   ],
   "source": [
    "import pandas as pd\n",
    "import nltk\n",
    "import openpyxl \n",
    "from nltk.tokenize import word_tokenize, sent_tokenize\n",
    "import re\n",
    "import os\n",
    "from collections import Counter\n",
    "import textstat\n",
    "\n",
    "# Ensure NLTK dependencies are available\n",
    "nltk.download('punkt')\n"
   ]
  },
  {
   "cell_type": "code",
   "execution_count": 2,
   "id": "c7c8d785-5368-4f31-a73c-750666e31d1a",
   "metadata": {},
   "outputs": [],
   "source": [
    "# Load stop words\n",
    "stop_words = set()\n",
    "for file in [\"stop_words\"]:\n",
    "    with open(file, \"r\", encoding=\"utf-8\") as f:\n",
    "        stop_words.update(word.strip().lower() for word in f)\n",
    "\n",
    "# Load positive and negative words\n",
    "positive_words = set()\n",
    "negative_words = set()\n",
    "with open(\"positive-words\", \"r\") as f:\n",
    "    positive_words.update(word.strip().lower() for word in f if word.strip() not in stop_words)\n",
    "with open(\"negative-words\", \"r\") as f:\n",
    "    negative_words.update(word.strip().lower() for word in f if word.strip() not in stop_words)\n"
   ]
  },
  {
   "cell_type": "code",
   "execution_count": 3,
   "id": "bc827743-f293-4bc0-bddf-da77aa73bc04",
   "metadata": {},
   "outputs": [],
   "source": [
    "def clean_text(text):\n",
    "    # Remove punctuation and convert to lowercase\n",
    "    text = re.sub(r'[^\\w\\s]', '', text).lower()\n",
    "    # Tokenize words and sentences\n",
    "    words = word_tokenize(text)\n",
    "    sentences = sent_tokenize(text)\n",
    "    # Remove stop words\n",
    "    cleaned_words = [word for word in words if word not in stop_words]\n",
    "    return cleaned_words, sentences"
   ]
  },
  {
   "cell_type": "code",
   "execution_count": 4,
   "id": "5a6a6478-307e-4ff7-a00b-3ca1ccdf586c",
   "metadata": {},
   "outputs": [],
   "source": [
    "def calculate_sentiment_scores(words):\n",
    "    positive_score = sum(1 for word in words if word in positive_words)\n",
    "    negative_score = sum(1 for word in words if word in negative_words)\n",
    "    return positive_score, negative_score"
   ]
  },
  {
   "cell_type": "code",
   "execution_count": 5,
   "id": "e445373d-21a5-44d1-8c05-55daed71e8c0",
   "metadata": {},
   "outputs": [],
   "source": [
    "def calculate_polarity_subjectivity(positive_score, negative_score, total_words):\n",
    "    polarity = (positive_score - negative_score) / (positive_score + negative_score + 0.000001)\n",
    "    subjectivity = (positive_score + negative_score) / (total_words + 0.000001)\n",
    "    return polarity, subjectivity"
   ]
  },
  {
   "cell_type": "code",
   "execution_count": 6,
   "id": "4ec3bf6c-9834-4152-a049-6e107644d423",
   "metadata": {},
   "outputs": [],
   "source": [
    "def calculate_readability_metrics(words, sentences):\n",
    "    total_words = len(words)\n",
    "    total_sentences = len(sentences)\n",
    "    avg_sentence_length = total_words / total_sentences if total_sentences > 0 else 0\n",
    "    avg_words_per_sentence = total_words / total_sentences if total_sentences > 0 else 0\n",
    "    complex_words = sum(1 for word in words if len(re.findall(r'[aeiouy]', word)) > 2)\n",
    "    percentage_complex_words = complex_words / total_words if total_words > 0 else 0\n",
    "    fog_index = 0.4 * (avg_sentence_length + percentage_complex_words)\n",
    "    return avg_sentence_length, avg_words_per_sentence, percentage_complex_words, fog_index, complex_words"
   ]
  },
  {
   "cell_type": "code",
   "execution_count": 7,
   "id": "d6ccbc02-b668-42e8-8fdd-ca7497233592",
   "metadata": {},
   "outputs": [],
   "source": [
    "def calculate_word_stats(words):\n",
    "    total_words = len(words)\n",
    "    avg_word_length = sum(len(word) for word in words) / total_words if total_words > 0 else 0\n",
    "    return total_words, avg_word_length"
   ]
  },
  {
   "cell_type": "code",
   "execution_count": 8,
   "id": "dcc7a5c5-686d-469f-983b-fbab088b5dd2",
   "metadata": {},
   "outputs": [],
   "source": [
    "def syllable_count(word):\n",
    "    word = word.lower()\n",
    "    syllables = len(re.findall(r'[aeiouy]', word))\n",
    "    if word.endswith(('es', 'ed')):\n",
    "        syllables = max(1, syllables - 1)\n",
    "    return syllables"
   ]
  },
  {
   "cell_type": "code",
   "execution_count": 9,
   "id": "26b6fed8-3736-4c08-9d1e-c5e963dd2b27",
   "metadata": {},
   "outputs": [],
   "source": [
    "def count_personal_pronouns(text):\n",
    "    pronouns = re.findall(r'\\b(I|we|my|ours|us)\\b', text, re.IGNORECASE)\n",
    "    return len(pronouns)"
   ]
  },
  {
   "cell_type": "code",
   "execution_count": null,
   "id": "9d1eea34-3228-4cec-8121-6a139ac75756",
   "metadata": {},
   "outputs": [],
   "source": []
  },
  {
   "cell_type": "code",
   "execution_count": 70,
   "id": "eb7900c1-6317-4bba-8c87-ab91cb7c1731",
   "metadata": {},
   "outputs": [],
   "source": [
    "def analyze_texts(input_file, articles_folder, output_file):\n",
    "    # Load Input File\n",
    "    df = pd.read_excel(input_file, engine='openpyxl')\n",
    "\n",
    "    # Prepare a list to hold results\n",
    "    results = []\n",
    "\n",
    "    # Iterate through each row in the DataFrame\n",
    "    for index, row in df.iterrows():\n",
    "        url_id = row['URL_ID']\n",
    "        #text = row[\"URL_ID\"]  # Adjust this based on your column name\n",
    "        with open(f\"{articles_folder}/{url_id}.txt\", 'r', encoding='utf-8') as file:\n",
    "             text = file.read()\n",
    "             try:\n",
    "                # Perform Cleaning\n",
    "                cleaned_tokens, sentences = clean_text(text)\n",
    "                        \n",
    "                # Calculate Sentiment Scores\n",
    "                positive_score, negative_score = calculate_sentiment_scores(cleaned_tokens)\n",
    "                polarity_score, subjectivity_score = calculate_polarity_subjectivity(\n",
    "                positive_score, negative_score, len(cleaned_tokens)\n",
    "                )\n",
    "                        \n",
    "                # Readability and Complexity Analysis\n",
    "                avg_sentence_length, avg_words_per_sentence, percentage_complex_words, fog_index, complex_word_count = calculate_readability_metrics(cleaned_tokens, sentences)\n",
    "                        \n",
    "                # Word Statistics\n",
    "                total_words, avg_word_length = calculate_word_stats(cleaned_tokens)\n",
    "                        \n",
    "                # Personal Pronouns Count\n",
    "                personal_pronouns = count_personal_pronouns(text)\n",
    "                # Save Results\n",
    "                results.append({\n",
    "                'URL_ID': row.get('URL_ID', ''),\n",
    "                'URL': row.get('URL', ''),\n",
    "                \"POSITIVE_SCORE\": positive_score,\n",
    "                'NEGATIVE_SCORE': negative_score,\n",
    "                'POLARITY_SCORE': polarity_score,\n",
    "                'SUBJECTIVITY_SCORE': subjectivity_score,\n",
    "                'AVG_SENTENCE_LENGTH': avg_sentence_length,\n",
    "                'PERCENTAGE_OF_COMPLEX_WORDS': percentage_complex_words,\n",
    "                'FOG_INDEX': fog_index,\n",
    "                'AVG_NUMBER_OF_WORDS_PER_SENTENCE': avg_words_per_sentence,\n",
    "                'COMPLEX_WORD_COUNT': complex_word_count,\n",
    "                'WORD_COUNT': total_words,\n",
    "                'SYLLABLE_PER_WORD': avg_word_length,  # Fix: This was incorrectly labeled before\n",
    "                'PERSONAL_PRONOUNS': personal_pronouns,\n",
    "                'AVG_WORD_LENGTH': avg_word_length,\n",
    "               })\n",
    "        \n",
    "             except Exception as e:\n",
    "                 print(f\"Error processing row {index} with URL_ID {row.get('URL_ID', '')}: {e}\")\n",
    "        \n",
    "    # Create a DataFrame from the results\n",
    "    results_df = pd.DataFrame(results)\n",
    "                \n",
    "    # Save to Output Excel\n",
    "    results_df.to_excel(output_file, index=False)\n",
    "\n",
    "# Example usage\n",
    "analyze_texts(\"Input.xlsx\", \"Articles\", \"Output_Data_Structure.xlsx\")\n",
    " \n",
    "        "
   ]
  },
  {
   "cell_type": "code",
   "execution_count": null,
   "id": "b6f35e6d-a7cc-4dfe-b405-3a52ec05a65c",
   "metadata": {},
   "outputs": [],
   "source": []
  },
  {
   "cell_type": "code",
   "execution_count": 72,
   "id": "4c808799-4a61-43a6-bf9c-89a94abff14a",
   "metadata": {},
   "outputs": [],
   "source": [
    "import pandas as pd\n",
    "\n",
    "# Load your Excel file\n",
    "df = pd.read_excel(\"Output_Data_Structure.xlsx\")\n",
    "\n",
    "# Save it as a CSV with UTF-8 encoding\n",
    "df.to_csv(\"Output_Data_Structure.csv\", index=False, encoding='utf-8')\n"
   ]
  },
  {
   "cell_type": "code",
   "execution_count": null,
   "id": "d783a755-d905-402c-ad18-b24409bceb39",
   "metadata": {},
   "outputs": [],
   "source": []
  }
 ],
 "metadata": {
  "kernelspec": {
   "display_name": "Python 3 (ipykernel)",
   "language": "python",
   "name": "python3"
  },
  "language_info": {
   "codemirror_mode": {
    "name": "ipython",
    "version": 3
   },
   "file_extension": ".py",
   "mimetype": "text/x-python",
   "name": "python",
   "nbconvert_exporter": "python",
   "pygments_lexer": "ipython3",
   "version": "3.12.4"
  }
 },
 "nbformat": 4,
 "nbformat_minor": 5
}

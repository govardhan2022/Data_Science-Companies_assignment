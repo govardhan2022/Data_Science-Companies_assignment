{
 "cells": [
  {
   "cell_type": "code",
   "execution_count": 2,
   "id": "8d3f3e57-f124-415d-a99a-f5397c9c6843",
   "metadata": {},
   "outputs": [
    {
     "name": "stderr",
     "output_type": "stream",
     "text": [
      "[nltk_data] Downloading package punkt to\n",
      "[nltk_data]     C:\\Users\\USER\\AppData\\Roaming\\nltk_data...\n",
      "[nltk_data]   Package punkt is already up-to-date!\n"
     ]
    },
    {
     "data": {
      "text/plain": [
       "True"
      ]
     },
     "execution_count": 2,
     "metadata": {},
     "output_type": "execute_result"
    }
   ],
   "source": [
    "import nltk\n",
    "nltk.download('punkt')"
   ]
  },
  {
   "cell_type": "code",
   "execution_count": 3,
   "id": "2eccac81-8fc2-4eff-9d68-d935e80c230a",
   "metadata": {},
   "outputs": [
    {
     "name": "stderr",
     "output_type": "stream",
     "text": [
      "[nltk_data] Downloading package punkt to\n",
      "[nltk_data]     C:\\Users\\USER\\AppData\\Roaming\\nltk_data...\n",
      "[nltk_data]   Package punkt is already up-to-date!\n"
     ]
    },
    {
     "data": {
      "text/plain": [
       "True"
      ]
     },
     "execution_count": 3,
     "metadata": {},
     "output_type": "execute_result"
    }
   ],
   "source": [
    "import scrapy\n",
    "from textstat.textstat import textstatistics\n",
    "import pandas as pd\n",
    "from textblob import TextBlob\n",
    "import nltk\n",
    "from scrapy.crawler import CrawlerProcess\n",
    "from scrapy.utils.project import get_project_settings\n",
    "\n",
    "# Ensure necessary NLTK resources are downloaded\n",
    "nltk.download('punkt')\n"
   ]
  },
  {
   "cell_type": "code",
   "execution_count": 4,
   "id": "00e59f24-359f-47ee-a48b-096e625fe8dd",
   "metadata": {},
   "outputs": [],
   "source": [
    "class ArticleSpider(scrapy.Spider):\n",
    "    name = \"article_spider\"\n",
    "    start_urls = [\n",
    "        \"https://insights.blackcoffer.com/ai-and-ml-based-youtube-analytics-and-content-creation-tool-for-optimizing-subscriber-engagement-and-content-strategy/\"\n",
    "    ]\n",
    "\n",
    "    def parse(self, response):\n",
    "        title = response.css('h1::text').get()\n",
    "        client_background = response.css('h2::text').get()\n",
    "        article_text = response.css('div.entry-content p::text').getall()\n",
    "        article_text = ' '.join(article_text)\n",
    "\n",
    "        # Save extracted content to a text file with URL_ID as filename (for demo, using title)\n",
    "        url_id = title.replace(\" \", \"_\")  # Replace spaces with underscores for filename\n",
    "        with open(f\"{url_id}.txt\", 'w', encoding='utf-8') as f:\n",
    "            f.write(f\"Title: {title}\\n\\n{article_text}\")\n",
    "\n",
    "        yield {\n",
    "            'URL_ID': url_id,\n",
    "            'Title': title,\n",
    "            'client_background': client_background,\n",
    "            'Article_Text': article_text,\n",
    "            \n",
    "        }\n"
   ]
  },
  {
   "cell_type": "code",
   "execution_count": 5,
   "id": "22d35cde-34ab-432e-afed-e45b73c33a96",
   "metadata": {},
   "outputs": [
    {
     "name": "stderr",
     "output_type": "stream",
     "text": [
      "2025-01-12 08:55:03 [scrapy.utils.log] INFO: Scrapy 2.11.1 started (bot: scrapybot)\n",
      "2025-01-12 08:55:03 [scrapy.utils.log] INFO: Versions: lxml 5.2.1.0, libxml2 2.10.4, cssselect 1.2.0, parsel 1.8.1, w3lib 2.1.2, Twisted 23.10.0, Python 3.12.4 | packaged by Anaconda, Inc. | (main, Jun 18 2024, 15:03:56) [MSC v.1929 64 bit (AMD64)], pyOpenSSL 24.0.0 (OpenSSL 3.0.14 4 Jun 2024), cryptography 42.0.5, Platform Windows-11-10.0.22000-SP0\n",
      "2025-01-12 08:55:03 [scrapy.addons] INFO: Enabled addons:\n",
      "[]\n",
      "2025-01-12 08:55:03 [py.warnings] WARNING: F:\\installed apps\\anaconda\\anacondaa1\\Lib\\site-packages\\scrapy\\utils\\request.py:254: ScrapyDeprecationWarning: '2.6' is a deprecated value for the 'REQUEST_FINGERPRINTER_IMPLEMENTATION' setting.\n",
      "\n",
      "It is also the default value. In other words, it is normal to get this warning if you have not defined a value for the 'REQUEST_FINGERPRINTER_IMPLEMENTATION' setting. This is so for backward compatibility reasons, but it will change in a future version of Scrapy.\n",
      "\n",
      "See the documentation of the 'REQUEST_FINGERPRINTER_IMPLEMENTATION' setting for information on how to handle this deprecation.\n",
      "  return cls(crawler)\n",
      "\n",
      "2025-01-12 08:55:03 [scrapy.utils.log] DEBUG: Using reactor: twisted.internet.selectreactor.SelectReactor\n",
      "2025-01-12 08:55:04 [scrapy.extensions.telnet] INFO: Telnet Password: b4476015c9f545a0\n",
      "2025-01-12 08:55:06 [scrapy.middleware] INFO: Enabled extensions:\n",
      "['scrapy.extensions.corestats.CoreStats',\n",
      " 'scrapy.extensions.telnet.TelnetConsole',\n",
      " 'scrapy.extensions.logstats.LogStats']\n",
      "2025-01-12 08:55:06 [scrapy.crawler] INFO: Overridden settings:\n",
      "{}\n",
      "2025-01-12 08:55:12 [scrapy.middleware] INFO: Enabled downloader middlewares:\n",
      "['scrapy.downloadermiddlewares.httpauth.HttpAuthMiddleware',\n",
      " 'scrapy.downloadermiddlewares.downloadtimeout.DownloadTimeoutMiddleware',\n",
      " 'scrapy.downloadermiddlewares.defaultheaders.DefaultHeadersMiddleware',\n",
      " 'scrapy.downloadermiddlewares.useragent.UserAgentMiddleware',\n",
      " 'scrapy.downloadermiddlewares.retry.RetryMiddleware',\n",
      " 'scrapy.downloadermiddlewares.redirect.MetaRefreshMiddleware',\n",
      " 'scrapy.downloadermiddlewares.httpcompression.HttpCompressionMiddleware',\n",
      " 'scrapy.downloadermiddlewares.redirect.RedirectMiddleware',\n",
      " 'scrapy.downloadermiddlewares.cookies.CookiesMiddleware',\n",
      " 'scrapy.downloadermiddlewares.httpproxy.HttpProxyMiddleware',\n",
      " 'scrapy.downloadermiddlewares.stats.DownloaderStats']\n",
      "2025-01-12 08:55:12 [scrapy.middleware] INFO: Enabled spider middlewares:\n",
      "['scrapy.spidermiddlewares.httperror.HttpErrorMiddleware',\n",
      " 'scrapy.spidermiddlewares.offsite.OffsiteMiddleware',\n",
      " 'scrapy.spidermiddlewares.referer.RefererMiddleware',\n",
      " 'scrapy.spidermiddlewares.urllength.UrlLengthMiddleware',\n",
      " 'scrapy.spidermiddlewares.depth.DepthMiddleware']\n",
      "2025-01-12 08:55:12 [scrapy.middleware] INFO: Enabled item pipelines:\n",
      "[]\n",
      "2025-01-12 08:55:12 [scrapy.core.engine] INFO: Spider opened\n",
      "2025-01-12 08:55:12 [scrapy.extensions.logstats] INFO: Crawled 0 pages (at 0 pages/min), scraped 0 items (at 0 items/min)\n",
      "2025-01-12 08:55:12 [scrapy.extensions.telnet] INFO: Telnet console listening on 127.0.0.1:6023\n",
      "2025-01-12 08:55:17 [scrapy.core.engine] DEBUG: Crawled (200) <GET https://insights.blackcoffer.com/ai-and-ml-based-youtube-analytics-and-content-creation-tool-for-optimizing-subscriber-engagement-and-content-strategy/> (referer: None)\n",
      "2025-01-12 08:55:17 [scrapy.core.scraper] DEBUG: Scraped from <200 https://insights.blackcoffer.com/ai-and-ml-based-youtube-analytics-and-content-creation-tool-for-optimizing-subscriber-engagement-and-content-strategy/>\n",
      "{'URL_ID': 'AI_and_ML-Based_YouTube_Analytics_and_Content_Creation_Tool_for_Optimizing_Subscriber_Engagement_and_Content_Strategy', 'Title': 'AI and ML-Based YouTube Analytics and Content Creation Tool for Optimizing Subscriber Engagement and Content Strategy', 'client_background': None, 'Article_Text': ''}\n",
      "2025-01-12 08:55:17 [scrapy.core.engine] INFO: Closing spider (finished)\n",
      "2025-01-12 08:55:17 [scrapy.statscollectors] INFO: Dumping Scrapy stats:\n",
      "{'downloader/request_bytes': 353,\n",
      " 'downloader/request_count': 1,\n",
      " 'downloader/request_method_count/GET': 1,\n",
      " 'downloader/response_bytes': 106449,\n",
      " 'downloader/response_count': 1,\n",
      " 'downloader/response_status_count/200': 1,\n",
      " 'elapsed_time_seconds': 5.532092,\n",
      " 'finish_reason': 'finished',\n",
      " 'finish_time': datetime.datetime(2025, 1, 12, 3, 25, 17, 786385, tzinfo=datetime.timezone.utc),\n",
      " 'httpcompression/response_bytes': 406890,\n",
      " 'httpcompression/response_count': 1,\n",
      " 'item_scraped_count': 1,\n",
      " 'log_count/DEBUG': 3,\n",
      " 'log_count/INFO': 10,\n",
      " 'log_count/WARNING': 1,\n",
      " 'response_received_count': 1,\n",
      " 'scheduler/dequeued': 1,\n",
      " 'scheduler/dequeued/memory': 1,\n",
      " 'scheduler/enqueued': 1,\n",
      " 'scheduler/enqueued/memory': 1,\n",
      " 'start_time': datetime.datetime(2025, 1, 12, 3, 25, 12, 254293, tzinfo=datetime.timezone.utc)}\n",
      "2025-01-12 08:55:17 [scrapy.core.engine] INFO: Spider closed (finished)\n"
     ]
    }
   ],
   "source": [
    "# Function to run the Scrapy spider within a Jupyter Notebook\n",
    "def run_spider():\n",
    "    process = CrawlerProcess(get_project_settings())\n",
    "    process.crawl(ArticleSpider)\n",
    "    process.start()\n",
    "\n",
    "run_spider()\n"
   ]
  },
  {
   "cell_type": "code",
   "execution_count": null,
   "id": "6d48cae6-26f5-41d3-b665-f84531784ac9",
   "metadata": {},
   "outputs": [],
   "source": []
  }
 ],
 "metadata": {
  "kernelspec": {
   "display_name": "Python 3 (ipykernel)",
   "language": "python",
   "name": "python3"
  },
  "language_info": {
   "codemirror_mode": {
    "name": "ipython",
    "version": 3
   },
   "file_extension": ".py",
   "mimetype": "text/x-python",
   "name": "python",
   "nbconvert_exporter": "python",
   "pygments_lexer": "ipython3",
   "version": "3.12.4"
  }
 },
 "nbformat": 4,
 "nbformat_minor": 5
}

{
 "cells": [
  {
   "cell_type": "markdown",
   "id": "4d9ef7a8-b898-45b4-90c5-8827aed82a60",
   "metadata": {},
   "source": [
    "## Data Extraction"
   ]
  },
  {
   "cell_type": "code",
   "execution_count": 8,
   "id": "ddc15bec-60fa-4dcc-a086-ced498136c56",
   "metadata": {},
   "outputs": [],
   "source": [
    "import pandas as pd\n",
    "\n",
    "# Load the input file\n",
    "input_file = \"Input.xlsx\"\n",
    "df = pd.read_excel(input_file)\n",
    "urls = df['URL']  # Assuming column name for URLs is 'URL'\n",
    "url_ids = df['URL_ID']  # Assuming column name for URL_IDs is 'URL_ID'\n"
   ]
  },
  {
   "cell_type": "code",
   "execution_count": 10,
   "id": "d2d41c31-989d-44cc-ab0d-5016110403d4",
   "metadata": {},
   "outputs": [],
   "source": [
    "import requests\n",
    "from bs4 import BeautifulSoup\n",
    "import os\n",
    "\n",
    "def extract_article(url):\n",
    "    try:\n",
    "        # Send an HTTP request\n",
    "        response = requests.get(url)\n",
    "        response.raise_for_status()  # Raise an exception for HTTP errors\n",
    "\n",
    "        # Parse the HTML content\n",
    "        soup = BeautifulSoup(response.content, 'html.parser')\n",
    "\n",
    "        # Extract title and article text\n",
    "        title = soup.find('h1').get_text(strip=True)  # Assuming title is in <h1>\n",
    "        article_text = \" \".join([p.get_text(strip=True) for p in soup.find_all('p')])\n",
    "\n",
    "        return title, article_text\n",
    "\n",
    "    except Exception as e:\n",
    "        print(f\"Error extracting article from {url}: {e}\")\n",
    "        return None, None\n"
   ]
  },
  {
   "cell_type": "code",
   "execution_count": 12,
   "id": "2ab41bee-d754-42ae-87bb-b2c5e40adabf",
   "metadata": {},
   "outputs": [],
   "source": [
    "output_dir = \"Articles\"  # Directory to save articles\n",
    "os.makedirs(output_dir, exist_ok=True)\n",
    "\n",
    "for url, url_id in zip(urls, url_ids):\n",
    "    title, article_text = extract_article(url)\n",
    "    if title and article_text:\n",
    "        # Save to a text file\n",
    "        with open(os.path.join(output_dir, f\"{url_id}.txt\"), \"w\", encoding=\"utf-8\") as file:\n",
    "            file.write(f\"{title}\\n\\n{article_text}\")\n",
    "    else:\n",
    "        print(f\"Skipping URL_ID {url_id} due to extraction error.\")\n"
   ]
  },
  {
   "cell_type": "code",
   "execution_count": null,
   "id": "b26e3bc7-0117-416c-aeae-94501e4f865d",
   "metadata": {},
   "outputs": [],
   "source": []
  }
 ],
 "metadata": {
  "kernelspec": {
   "display_name": "Python 3 (ipykernel)",
   "language": "python",
   "name": "python3"
  },
  "language_info": {
   "codemirror_mode": {
    "name": "ipython",
    "version": 3
   },
   "file_extension": ".py",
   "mimetype": "text/x-python",
   "name": "python",
   "nbconvert_exporter": "python",
   "pygments_lexer": "ipython3",
   "version": "3.12.4"
  }
 },
 "nbformat": 4,
 "nbformat_minor": 5
}

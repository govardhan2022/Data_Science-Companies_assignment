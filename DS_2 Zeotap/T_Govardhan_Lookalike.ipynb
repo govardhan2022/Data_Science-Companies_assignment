{
 "cells": [
  {
   "cell_type": "code",
   "execution_count": 1,
   "id": "d829a134-35e0-4bc3-8986-db7a7ecc7c1d",
   "metadata": {},
   "outputs": [],
   "source": [
    "import pandas as pd\n",
    "import matplotlib.pyplot as plt\n",
    "import seaborn as sns\n",
    "from sklearn.metrics.pairwise import cosine_similarity\n",
    "from sklearn.cluster import KMeans\n",
    "from sklearn.metrics import davies_bouldin_score\n",
    "import numpy as np"
   ]
  },
  {
   "cell_type": "code",
   "execution_count": 2,
   "id": "4ba8d52b-fa23-4e95-8c4b-1fdbacdee26b",
   "metadata": {},
   "outputs": [],
   "source": [
    "# Load datasets\n",
    "customers = pd.read_csv('Customers.csv')\n",
    "products = pd.read_csv('Products.csv')\n",
    "transactions = pd.read_csv('Transactions.csv')"
   ]
  },
  {
   "cell_type": "code",
   "execution_count": 3,
   "id": "e6a1ed48-eece-4fa8-9c1a-a8158485381c",
   "metadata": {},
   "outputs": [],
   "source": [
    "# Convert date columns to datetime\n",
    "customers[\"SignupDate\"] = pd.to_datetime(customers[\"SignupDate\"], errors=\"coerce\")\n",
    "transactions[\"TransactionDate\"] = pd.to_datetime(transactions[\"TransactionDate\"], errors=\"coerce\")\n",
    "\n",
    "# Handle any rows with invalid dates\n",
    "customers.dropna(subset=[\"SignupDate\"], inplace=True)\n",
    "transactions.dropna(subset=[\"TransactionDate\"], inplace=True)\n",
    "\n",
    "# Check for and handle missing values\n",
    "customers.fillna(\"Unknown\", inplace=True)\n",
    "products.fillna(\"Unknown\", inplace=True)\n",
    "transactions.fillna(0, inplace=True)"
   ]
  },
  {
   "cell_type": "markdown",
   "id": "8cb206ce-7a84-40ef-a3df-17e4b6dff580",
   "metadata": {},
   "source": [
    "## Lookalike Model"
   ]
  },
  {
   "cell_type": "code",
   "execution_count": 5,
   "id": "a8ad63c7-0d73-46e9-828c-e70eebbea917",
   "metadata": {},
   "outputs": [
    {
     "name": "stdout",
     "output_type": "stream",
     "text": [
      "Lookalike recommendations saved to Lookalike.csv.\n"
     ]
    }
   ],
   "source": [
    "# Combine customer and transaction data\n",
    "customer_transactions = transactions.groupby(\"CustomerID\").agg({\"TotalValue\": \"sum\", \"Quantity\": \"sum\"}).reset_index()\n",
    "customer_profiles = pd.merge(customers, customer_transactions, on=\"CustomerID\", how=\"left\").fillna(0)\n",
    "\n",
    "# Calculate similarity using cosine similarity\n",
    "features = [\"TotalValue\", \"Quantity\"]\n",
    "similarity_matrix = cosine_similarity(customer_profiles[features])\n",
    "\n",
    "# Find top 3 lookalikes for each customer\n",
    "lookalikes = {}\n",
    "for i, customer_id in enumerate(customer_profiles[\"CustomerID\"]):\n",
    "    similar_indices = np.argsort(similarity_matrix[i])[::-1][1:4]  # Exclude self\n",
    "    similar_customers = [(customer_profiles[\"CustomerID\"].iloc[j], round(similarity_matrix[i, j], 12)) for j in similar_indices]\n",
    "    lookalikes[customer_id] = similar_customers\n",
    "\n",
    "# Save lookalikes for the first 20 customers\n",
    "output = {cust: lookalikes[cust] for cust in customer_profiles[\"CustomerID\"].iloc[:20]}\n",
    "lookalike_df = pd.DataFrame.from_dict(output, orient=\"index\", columns=[\"Top1\", \"Top2\", \"Top3\"])\n",
    "lookalike_df.rename(columns={\"index\": \"CustomerID\"}, inplace=True)\n",
    "lookalike_df.to_csv(\"Lookalike.csv\")\n",
    "print(\"Lookalike recommendations saved to Lookalike.csv.\")"
   ]
  },
  {
   "cell_type": "markdown",
   "id": "d4f829c6-9351-4a0d-b0ce-103fbb074680",
   "metadata": {},
   "source": [
    "# Model Development\n",
    "## 1) Feature Engineering:\n",
    " - Aggregated transactional data by CustomerID, calculating:\n",
    "    - Total purchase value (TotalValue)\n",
    "    - Total quantity of items purchased (Quantity).\n",
    " - Merged the aggregated data with customer profiles to form a comprehensive dataset.\n",
    "## 2) Similarity Computation:\n",
    " - Used Cosine Similarity to compute the similarity matrix between customers based on their transactional features (TotalValue and Quantity).\n",
    " - This approach quantifies similarity on a scale of 0 to 1.\n",
    "## 3) Recommendation Process:\n",
    " - For each customer, identified the top 3 most similar customers by sorting their similarity scores (excluding self-similarity).\n",
    " - Stored the results as a dictionary, where keys represent CustomerID and values contain a list of tuples (customerID(Lookalike customers), Score).\n",
    "## 4)Output Generation:\n",
    " - Created a CSV file named Lookalike.csv, containing:\n",
    "   - CustomerID: The target customer.\n",
    "   - LookalikeID: IDs of the three most similar customers.\n",
    "   - Score: Similarity scores rounded to 12 decimal places."
   ]
  },
  {
   "cell_type": "code",
   "execution_count": null,
   "id": "3af26539-6ae3-48ac-af2f-af879d4bab4c",
   "metadata": {},
   "outputs": [],
   "source": []
  }
 ],
 "metadata": {
  "kernelspec": {
   "display_name": "Python 3 (ipykernel)",
   "language": "python",
   "name": "python3"
  },
  "language_info": {
   "codemirror_mode": {
    "name": "ipython",
    "version": 3
   },
   "file_extension": ".py",
   "mimetype": "text/x-python",
   "name": "python",
   "nbconvert_exporter": "python",
   "pygments_lexer": "ipython3",
   "version": "3.12.4"
  }
 },
 "nbformat": 4,
 "nbformat_minor": 5
}

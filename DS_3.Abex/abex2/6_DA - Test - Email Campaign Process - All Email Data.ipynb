{
 "cells": [
  {
   "cell_type": "code",
   "execution_count": 1,
   "id": "46c2f2e1-8462-491d-95be-193fa3461751",
   "metadata": {},
   "outputs": [],
   "source": [
    "import numpy as np\n",
    "import pandas as pd\n",
    "import matplotlib.pyplot as plt\n",
    "import seaborn as sns"
   ]
  },
  {
   "cell_type": "code",
   "execution_count": 2,
   "id": "d7824e87-dcbc-4362-84fa-35cc6884c4de",
   "metadata": {},
   "outputs": [],
   "source": [
    "df=pd.read_csv('6_DA - Test - Email Campaign Process - All Email Data.csv')"
   ]
  },
  {
   "cell_type": "code",
   "execution_count": 3,
   "id": "b0ce83af-4ee3-4cdd-929e-fab1d46dd492",
   "metadata": {},
   "outputs": [
    {
     "data": {
      "text/html": [
       "<div>\n",
       "<style scoped>\n",
       "    .dataframe tbody tr th:only-of-type {\n",
       "        vertical-align: middle;\n",
       "    }\n",
       "\n",
       "    .dataframe tbody tr th {\n",
       "        vertical-align: top;\n",
       "    }\n",
       "\n",
       "    .dataframe thead th {\n",
       "        text-align: right;\n",
       "    }\n",
       "</style>\n",
       "<table border=\"1\" class=\"dataframe\">\n",
       "  <thead>\n",
       "    <tr style=\"text-align: right;\">\n",
       "      <th></th>\n",
       "      <th>Company Name</th>\n",
       "      <th>Name</th>\n",
       "      <th>Tittle</th>\n",
       "      <th>Website</th>\n",
       "      <th>Company Linkedin</th>\n",
       "      <th>Linkedin URL</th>\n",
       "      <th>Campaign Name</th>\n",
       "      <th>Email Status</th>\n",
       "    </tr>\n",
       "  </thead>\n",
       "  <tbody>\n",
       "    <tr>\n",
       "      <th>0</th>\n",
       "      <td>50Fin</td>\n",
       "      <td>Darpan Tanna</td>\n",
       "      <td>Co-Founder</td>\n",
       "      <td>https://www.50fin.in/</td>\n",
       "      <td>https://www.linkedin.com/company/50fin</td>\n",
       "      <td>https://www.linkedin.com/in/darpantanna</td>\n",
       "      <td>NaN</td>\n",
       "      <td>Campaign Started from smart lead</td>\n",
       "    </tr>\n",
       "    <tr>\n",
       "      <th>1</th>\n",
       "      <td>8club</td>\n",
       "      <td>Madhur Rao</td>\n",
       "      <td>Co-Founder and CTO</td>\n",
       "      <td>https://www.8club.co/</td>\n",
       "      <td>https://www.linkedin.com/company/eight.club</td>\n",
       "      <td>https://www.linkedin.com/in/madhur-rao</td>\n",
       "      <td>NaN</td>\n",
       "      <td>Campaign Started from smart lead</td>\n",
       "    </tr>\n",
       "    <tr>\n",
       "      <th>2</th>\n",
       "      <td>8club</td>\n",
       "      <td>Kaushal Chanani</td>\n",
       "      <td>Co-Founder</td>\n",
       "      <td>https://www.8club.co/</td>\n",
       "      <td>https://www.linkedin.com/company/eight.club</td>\n",
       "      <td>https://www.linkedin.com/in/kaushal-chanani</td>\n",
       "      <td>NaN</td>\n",
       "      <td>Campaign Started from smart lead</td>\n",
       "    </tr>\n",
       "    <tr>\n",
       "      <th>3</th>\n",
       "      <td>8club</td>\n",
       "      <td>Kunal Yadav</td>\n",
       "      <td>Co-Founder &amp; CEO</td>\n",
       "      <td>https://www.8club.co/</td>\n",
       "      <td>https://www.linkedin.com/company/eight.club</td>\n",
       "      <td>https://www.linkedin.com/in/kunalyadav08</td>\n",
       "      <td>NaN</td>\n",
       "      <td>Campaign Started from smart lead</td>\n",
       "    </tr>\n",
       "    <tr>\n",
       "      <th>4</th>\n",
       "      <td>AADYAH</td>\n",
       "      <td>Sunderarajan Varadan</td>\n",
       "      <td>CEO</td>\n",
       "      <td>https://www.aadyah.com/</td>\n",
       "      <td>https://www.linkedin.com/company/aadyah-aerosp...</td>\n",
       "      <td>https://www.linkedin.com/in/sunderarajan-varad...</td>\n",
       "      <td>NaN</td>\n",
       "      <td>Not in List</td>\n",
       "    </tr>\n",
       "  </tbody>\n",
       "</table>\n",
       "</div>"
      ],
      "text/plain": [
       "  Company Name                  Name              Tittle  \\\n",
       "0        50Fin          Darpan Tanna          Co-Founder   \n",
       "1        8club            Madhur Rao  Co-Founder and CTO   \n",
       "2        8club       Kaushal Chanani          Co-Founder   \n",
       "3        8club           Kunal Yadav    Co-Founder & CEO   \n",
       "4       AADYAH  Sunderarajan Varadan                 CEO   \n",
       "\n",
       "                   Website                                  Company Linkedin   \\\n",
       "0    https://www.50fin.in/             https://www.linkedin.com/company/50fin   \n",
       "1    https://www.8club.co/        https://www.linkedin.com/company/eight.club   \n",
       "2    https://www.8club.co/        https://www.linkedin.com/company/eight.club   \n",
       "3    https://www.8club.co/        https://www.linkedin.com/company/eight.club   \n",
       "4  https://www.aadyah.com/  https://www.linkedin.com/company/aadyah-aerosp...   \n",
       "\n",
       "                                        Linkedin URL Campaign Name  \\\n",
       "0            https://www.linkedin.com/in/darpantanna           NaN   \n",
       "1             https://www.linkedin.com/in/madhur-rao           NaN   \n",
       "2        https://www.linkedin.com/in/kaushal-chanani           NaN   \n",
       "3           https://www.linkedin.com/in/kunalyadav08           NaN   \n",
       "4  https://www.linkedin.com/in/sunderarajan-varad...           NaN   \n",
       "\n",
       "                       Email Status  \n",
       "0  Campaign Started from smart lead  \n",
       "1  Campaign Started from smart lead  \n",
       "2  Campaign Started from smart lead  \n",
       "3  Campaign Started from smart lead  \n",
       "4                       Not in List  "
      ]
     },
     "execution_count": 3,
     "metadata": {},
     "output_type": "execute_result"
    }
   ],
   "source": [
    "df.head()"
   ]
  },
  {
   "cell_type": "code",
   "execution_count": 4,
   "id": "1e217c06-cbf2-4540-8dda-f9d3236aa62b",
   "metadata": {},
   "outputs": [],
   "source": [
    "import warnings\n",
    "\n",
    "# Suppress warnings\n",
    "warnings.filterwarnings(\"ignore\")"
   ]
  },
  {
   "cell_type": "markdown",
   "id": "e3108976-3a38-4f99-96e8-416ed2f1dbe8",
   "metadata": {},
   "source": [
    "### Data Cleaning"
   ]
  },
  {
   "cell_type": "code",
   "execution_count": 6,
   "id": "cc03b583-bbc9-46c1-9228-6cd04bb5fa7b",
   "metadata": {},
   "outputs": [],
   "source": [
    "# Standardizing column names\n",
    "df.rename(columns={'Tittle': 'Title'}, inplace=True)"
   ]
  },
  {
   "cell_type": "code",
   "execution_count": 7,
   "id": "d8a8a4cf-71c1-4b23-8b04-c93ba882edd5",
   "metadata": {},
   "outputs": [
    {
     "data": {
      "text/plain": [
       "Index(['Company Name', 'Name', 'Title', 'Website', 'Company Linkedin ',\n",
       "       'Linkedin URL', 'Campaign Name', 'Email Status'],\n",
       "      dtype='object')"
      ]
     },
     "execution_count": 7,
     "metadata": {},
     "output_type": "execute_result"
    }
   ],
   "source": [
    "# Checking column names to identify any unexpected spaces or formatting issues\n",
    "df.columns"
   ]
  },
  {
   "cell_type": "code",
   "execution_count": 8,
   "id": "3e8f8883-a9df-4099-bd2d-6bd68829e8ab",
   "metadata": {},
   "outputs": [
    {
     "name": "stdout",
     "output_type": "stream",
     "text": [
      "<class 'pandas.core.frame.DataFrame'>\n",
      "RangeIndex: 9893 entries, 0 to 9892\n",
      "Data columns (total 8 columns):\n",
      " #   Column            Non-Null Count  Dtype \n",
      "---  ------            --------------  ----- \n",
      " 0   Company Name      9893 non-null   object\n",
      " 1   Name              9893 non-null   object\n",
      " 2   Title             9893 non-null   object\n",
      " 3   Website           3686 non-null   object\n",
      " 4   Company Linkedin  9893 non-null   object\n",
      " 5   Linkedin URL      9893 non-null   object\n",
      " 6   Campaign Name     9893 non-null   object\n",
      " 7   Email Status      9893 non-null   object\n",
      "dtypes: object(8)\n",
      "memory usage: 618.4+ KB\n"
     ]
    },
    {
     "data": {
      "text/plain": [
       "(None,\n",
       "   Company Name                  Name               Title  \\\n",
       " 0        50Fin          Darpan Tanna          Co-Founder   \n",
       " 1        8club            Madhur Rao  Co-Founder and CTO   \n",
       " 2        8club       Kaushal Chanani          Co-Founder   \n",
       " 3        8club           Kunal Yadav    Co-Founder & CEO   \n",
       " 4       AADYAH  Sunderarajan Varadan                 CEO   \n",
       " \n",
       "                    Website                                   Company Linkedin  \\\n",
       " 0    https://www.50fin.in/             https://www.linkedin.com/company/50fin   \n",
       " 1    https://www.8club.co/        https://www.linkedin.com/company/eight.club   \n",
       " 2    https://www.8club.co/        https://www.linkedin.com/company/eight.club   \n",
       " 3    https://www.8club.co/        https://www.linkedin.com/company/eight.club   \n",
       " 4  https://www.aadyah.com/  https://www.linkedin.com/company/aadyah-aerosp...   \n",
       " \n",
       "                                         Linkedin URL Campaign Name  \\\n",
       " 0            https://www.linkedin.com/in/darpantanna   No Campaign   \n",
       " 1             https://www.linkedin.com/in/madhur-rao   No Campaign   \n",
       " 2        https://www.linkedin.com/in/kaushal-chanani   No Campaign   \n",
       " 3           https://www.linkedin.com/in/kunalyadav08   No Campaign   \n",
       " 4  https://www.linkedin.com/in/sunderarajan-varad...   No Campaign   \n",
       " \n",
       "                        Email Status  \n",
       " 0  Campaign Started from smart lead  \n",
       " 1  Campaign Started from smart lead  \n",
       " 2  Campaign Started from smart lead  \n",
       " 3  Campaign Started from smart lead  \n",
       " 4                       Not in List  )"
      ]
     },
     "execution_count": 8,
     "metadata": {},
     "output_type": "execute_result"
    }
   ],
   "source": [
    "# Stripping extra spaces from column names\n",
    "df.columns = df.columns.str.strip()\n",
    "\n",
    "# Now, retrying the cleaning process\n",
    "df['Company Linkedin'].fillna(\"Unknown\", inplace=True)\n",
    "df['Linkedin URL'].fillna(\"Unknown\", inplace=True)\n",
    "df['Campaign Name'].fillna(\"No Campaign\", inplace=True)\n",
    "df['Email Status'].fillna(\"No Status\", inplace=True)\n",
    "\n",
    "# Verifying cleaning steps\n",
    "df.info(), df.head()"
   ]
  },
  {
   "cell_type": "code",
   "execution_count": 9,
   "id": "4b41d51f-7a41-4dc0-a3a7-8f55e62f6362",
   "metadata": {},
   "outputs": [
    {
     "data": {
      "text/plain": [
       "Index(['Company Name', 'Name', 'Title', 'Website', 'Company Linkedin',\n",
       "       'Linkedin URL', 'Campaign Name', 'Email Status'],\n",
       "      dtype='object')"
      ]
     },
     "execution_count": 9,
     "metadata": {},
     "output_type": "execute_result"
    }
   ],
   "source": [
    "df.columns"
   ]
  },
  {
   "cell_type": "markdown",
   "id": "4564e62a-5125-418b-be4e-da119cff66de",
   "metadata": {},
   "source": [
    "### Data Cleaning Summary"
   ]
  },
  {
   "cell_type": "code",
   "execution_count": 11,
   "id": "24fa4467-186f-49e3-9c79-580d36330f3a",
   "metadata": {},
   "outputs": [
    {
     "data": {
      "text/plain": [
       "Email Status\n",
       "no status                           6118\n",
       "not in list                         3324\n",
       "campaign started from smart lead     451\n",
       "Name: count, dtype: int64"
      ]
     },
     "execution_count": 11,
     "metadata": {},
     "output_type": "execute_result"
    }
   ],
   "source": [
    "# Data Handling: Extracting insights and formatting\n",
    "\n",
    "# Extracting domain from Website URLs for company analysis\n",
    "# Ensuring all values are treated as strings before splitting\n",
    "df['Website Domain'] = df['Website'].astype(str).apply(lambda x: x.split(\"//\")[-1].split(\"/\")[0] if x != \"Unknown\" else \"Unknown\")\n",
    "\n",
    "# Checking the top website domains\n",
    "df['Website Domain'].value_counts().head(10)\n",
    "\n",
    "\n",
    "# Standardizing Email Status values (removing inconsistencies)\n",
    "df['Email Status'] = df['Email Status'].str.strip().str.lower()\n",
    "\n",
    "# Checking unique values in Email Status\n",
    "df['Email Status'].value_counts()\n"
   ]
  },
  {
   "cell_type": "markdown",
   "id": "b9605026-6708-46a5-85a5-861cacd444de",
   "metadata": {},
   "source": [
    "### Data Handling"
   ]
  },
  {
   "cell_type": "code",
   "execution_count": 13,
   "id": "3e657b4b-6dec-41df-ba3b-4a91901703dc",
   "metadata": {},
   "outputs": [
    {
     "data": {
      "text/html": [
       "<div>\n",
       "<style scoped>\n",
       "    .dataframe tbody tr th:only-of-type {\n",
       "        vertical-align: middle;\n",
       "    }\n",
       "\n",
       "    .dataframe tbody tr th {\n",
       "        vertical-align: top;\n",
       "    }\n",
       "\n",
       "    .dataframe thead th {\n",
       "        text-align: right;\n",
       "    }\n",
       "</style>\n",
       "<table border=\"1\" class=\"dataframe\">\n",
       "  <thead>\n",
       "    <tr style=\"text-align: right;\">\n",
       "      <th></th>\n",
       "      <th>Campaign Name</th>\n",
       "      <th>Count</th>\n",
       "    </tr>\n",
       "  </thead>\n",
       "  <tbody>\n",
       "    <tr>\n",
       "      <th>0</th>\n",
       "      <td>Employee Size 11 - 100 (Founded Year 2020 - 20...</td>\n",
       "      <td>6045</td>\n",
       "    </tr>\n",
       "    <tr>\n",
       "      <th>1</th>\n",
       "      <td>No Campaign</td>\n",
       "      <td>3848</td>\n",
       "    </tr>\n",
       "  </tbody>\n",
       "</table>\n",
       "</div>"
      ],
      "text/plain": [
       "                                       Campaign Name  Count\n",
       "0  Employee Size 11 - 100 (Founded Year 2020 - 20...   6045\n",
       "1                                        No Campaign   3848"
      ]
     },
     "execution_count": 13,
     "metadata": {},
     "output_type": "execute_result"
    }
   ],
   "source": [
    "# Analyzing campaign engagement by counting occurrences of each Campaign Name\n",
    "campaign_analysis = df['Campaign Name'].value_counts().reset_index()\n",
    "campaign_analysis.columns = ['Campaign Name', 'Count']\n",
    "\n",
    "# Checking top 10 campaigns\n",
    "campaign_analysis.head(10)\n"
   ]
  },
  {
   "cell_type": "markdown",
   "id": "b66274be-cd3b-4003-917b-20178f36d14b",
   "metadata": {},
   "source": [
    "### Data Visualization"
   ]
  },
  {
   "cell_type": "code",
   "execution_count": 15,
   "id": "405ca5cf-1877-496d-be26-1b7a9074c28f",
   "metadata": {},
   "outputs": [
    {
     "data": {
      "image/png": "[encoded data removed]",
      "text/plain": [
       "<Figure size 800x400 with 1 Axes>"
      ]
     },
     "metadata": {},
     "output_type": "display_data"
    }
   ],
   "source": [
    "import matplotlib.pyplot as plt\n",
    "import seaborn as sns\n",
    "\n",
    "# Setting style\n",
    "sns.set_theme(style=\"whitegrid\")\n",
    "\n",
    "# Plot: Distribution of Email Status\n",
    "plt.figure(figsize=(8, 4))\n",
    "sns.countplot(data=df, y=\"Email Status\", order=df[\"Email Status\"].value_counts().index, palette=\"viridis\")\n",
    "plt.xlabel(\"Count\")\n",
    "plt.ylabel(\"Email Status\")\n",
    "plt.title(\"Email Status Distribution\")\n",
    "plt.show()\n"
   ]
  },
  {
   "cell_type": "code",
   "execution_count": 16,
   "id": "1f45b1bc-6329-49bb-8a31-0a0b24c2ca30",
   "metadata": {},
   "outputs": [
    {
     "data": {
      "image/png": "[encoded data removed]",
      "text/plain": [
       "<Figure size 1000x500 with 1 Axes>"
      ]
     },
     "metadata": {},
     "output_type": "display_data"
    }
   ],
   "source": [
    "# Plot: Top 10 Campaigns by Count\n",
    "top_campaigns = campaign_analysis.head(10)\n",
    "\n",
    "plt.figure(figsize=(10, 5))\n",
    "sns.barplot(data=top_campaigns, y=\"Campaign Name\", x=\"Count\", palette=\"magma\")\n",
    "plt.xlabel(\"Count\")\n",
    "plt.ylabel(\"Campaign Name\")\n",
    "plt.title(\"Top 10 Campaigns by Engagement\")\n",
    "plt.show()"
   ]
  },
  {
   "cell_type": "code",
   "execution_count": 17,
   "id": "95d3d78b-a2de-41c7-8a46-da2c78b35807",
   "metadata": {},
   "outputs": [
    {
     "data": {
      "image/png": "[encoded data removed]",
      "text/plain": [
       "<Figure size 600x400 with 1 Axes>"
      ]
     },
     "metadata": {},
     "output_type": "display_data"
    }
   ],
   "source": [
    "# Counting how many entries have valid LinkedIn URLs\n",
    "linkedin_presence = df[['Company Linkedin', 'Linkedin URL']].applymap(lambda x: x != \"Unknown\").sum()\n",
    "\n",
    "# Plot: LinkedIn Presence Analysis\n",
    "plt.figure(figsize=(6, 4))\n",
    "sns.barplot(x=linkedin_presence.index, y=linkedin_presence.values, palette=\"coolwarm\")\n",
    "plt.ylabel(\"Count\")\n",
    "plt.title(\"LinkedIn Presence in Dataset\")\n",
    "plt.show()"
   ]
  },
  {
   "cell_type": "code",
   "execution_count": null,
   "id": "700e4b7c-fd51-4468-aa10-35cb88d651eb",
   "metadata": {},
   "outputs": [],
   "source": []
  }
 ],
 "metadata": {
  "kernelspec": {
   "display_name": "Python 3 (ipykernel)",
   "language": "python",
   "name": "python3"
  },
  "language_info": {
   "codemirror_mode": {
    "name": "ipython",
    "version": 3
   },
   "file_extension": ".py",
   "mimetype": "text/x-python",
   "name": "python",
   "nbconvert_exporter": "python",
   "pygments_lexer": "ipython3",
   "version": "3.12.4"
  }
 },
 "nbformat": 4,
 "nbformat_minor": 5
}

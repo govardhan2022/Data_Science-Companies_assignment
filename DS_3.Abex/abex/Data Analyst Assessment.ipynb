{
 "cells": [
  {
   "cell_type": "markdown",
   "id": "9c5df74a-470f-4c3a-9986-4b4c925362ab",
   "metadata": {},
   "source": [
    "## T Govardhan\n",
    "### 9963250247, tgtgovardhan@gmail.com "
   ]
  },
  {
   "cell_type": "code",
   "execution_count": 2,
   "id": "263a802d-29e6-4d08-8500-05c8f48781a6",
   "metadata": {},
   "outputs": [],
   "source": [
    "# importing neccessary libraries\n",
    "import pandas as pd\n",
    "import numpy as np"
   ]
  },
  {
   "cell_type": "code",
   "execution_count": 3,
   "id": "c2b0189d-7b2f-46a4-86f8-8d04b1238d9f",
   "metadata": {},
   "outputs": [],
   "source": [
    "# loading the data\n",
    "df = pd.read_csv('empd.csv')"
   ]
  },
  {
   "cell_type": "code",
   "execution_count": 4,
   "id": "0256016e-684a-40d8-8257-6caac7ef4eb2",
   "metadata": {},
   "outputs": [
    {
     "data": {
      "text/html": [
       "<div>\n",
       "<style scoped>\n",
       "    .dataframe tbody tr th:only-of-type {\n",
       "        vertical-align: middle;\n",
       "    }\n",
       "\n",
       "    .dataframe tbody tr th {\n",
       "        vertical-align: top;\n",
       "    }\n",
       "\n",
       "    .dataframe thead th {\n",
       "        text-align: right;\n",
       "    }\n",
       "</style>\n",
       "<table border=\"1\" class=\"dataframe\">\n",
       "  <thead>\n",
       "    <tr style=\"text-align: right;\">\n",
       "      <th></th>\n",
       "      <th>employee_id</th>\n",
       "      <th>first_name</th>\n",
       "      <th>last_name</th>\n",
       "      <th>email</th>\n",
       "      <th>phone</th>\n",
       "      <th>department</th>\n",
       "      <th>job_title</th>\n",
       "      <th>salary</th>\n",
       "      <th>join_date</th>\n",
       "      <th>performance_score</th>\n",
       "    </tr>\n",
       "  </thead>\n",
       "  <tbody>\n",
       "    <tr>\n",
       "      <th>0</th>\n",
       "      <td>EMP0001</td>\n",
       "      <td>Robert</td>\n",
       "      <td>Vasquez</td>\n",
       "      <td>anthonyhubbard@example.com</td>\n",
       "      <td>395-797-9647</td>\n",
       "      <td>HR</td>\n",
       "      <td>Senior Analyst</td>\n",
       "      <td>89934.0</td>\n",
       "      <td>2022-09-06</td>\n",
       "      <td>5.0</td>\n",
       "    </tr>\n",
       "    <tr>\n",
       "      <th>1</th>\n",
       "      <td>EMP0002</td>\n",
       "      <td>Barbara</td>\n",
       "      <td>Bruce</td>\n",
       "      <td>bonniethomas@example.com</td>\n",
       "      <td>001-745-858-7716x94722</td>\n",
       "      <td>HR</td>\n",
       "      <td>Senior Consultant</td>\n",
       "      <td>77234.0</td>\n",
       "      <td>2024-07-05</td>\n",
       "      <td>5.0</td>\n",
       "    </tr>\n",
       "    <tr>\n",
       "      <th>2</th>\n",
       "      <td>EMP0003</td>\n",
       "      <td>Derek</td>\n",
       "      <td>Martin</td>\n",
       "      <td>smiller@example.net</td>\n",
       "      <td>356-450-4481x832</td>\n",
       "      <td>Enginering</td>\n",
       "      <td>Senior Consultant</td>\n",
       "      <td>92953.0</td>\n",
       "      <td>2022-11-02</td>\n",
       "      <td>3.0</td>\n",
       "    </tr>\n",
       "    <tr>\n",
       "      <th>3</th>\n",
       "      <td>EMP0004</td>\n",
       "      <td>Monique</td>\n",
       "      <td>Serrano</td>\n",
       "      <td>joseph51@example.net</td>\n",
       "      <td>001-852-702-8457</td>\n",
       "      <td>Sales</td>\n",
       "      <td>Senior Engineer</td>\n",
       "      <td>110460.0</td>\n",
       "      <td>2024-09-21</td>\n",
       "      <td>NaN</td>\n",
       "    </tr>\n",
       "    <tr>\n",
       "      <th>4</th>\n",
       "      <td>EMP0005</td>\n",
       "      <td>Frank</td>\n",
       "      <td>Robinson</td>\n",
       "      <td>mariepope@example.net</td>\n",
       "      <td>+1-788-681-6711x207</td>\n",
       "      <td>HR</td>\n",
       "      <td>Manager Manager</td>\n",
       "      <td>75316.0</td>\n",
       "      <td>2023-07-29</td>\n",
       "      <td>2.0</td>\n",
       "    </tr>\n",
       "  </tbody>\n",
       "</table>\n",
       "</div>"
      ],
      "text/plain": [
       "  employee_id first_name last_name                       email  \\\n",
       "0     EMP0001     Robert   Vasquez  anthonyhubbard@example.com   \n",
       "1     EMP0002    Barbara     Bruce    bonniethomas@example.com   \n",
       "2     EMP0003      Derek    Martin         smiller@example.net   \n",
       "3     EMP0004    Monique   Serrano        joseph51@example.net   \n",
       "4     EMP0005      Frank  Robinson       mariepope@example.net   \n",
       "\n",
       "                    phone  department          job_title    salary  \\\n",
       "0            395-797-9647          HR     Senior Analyst   89934.0   \n",
       "1  001-745-858-7716x94722          HR  Senior Consultant   77234.0   \n",
       "2        356-450-4481x832  Enginering  Senior Consultant   92953.0   \n",
       "3        001-852-702-8457       Sales    Senior Engineer  110460.0   \n",
       "4     +1-788-681-6711x207          HR    Manager Manager   75316.0   \n",
       "\n",
       "    join_date  performance_score  \n",
       "0  2022-09-06                5.0  \n",
       "1  2024-07-05                5.0  \n",
       "2  2022-11-02                3.0  \n",
       "3  2024-09-21                NaN  \n",
       "4  2023-07-29                2.0  "
      ]
     },
     "execution_count": 4,
     "metadata": {},
     "output_type": "execute_result"
    }
   ],
   "source": [
    "# to see the  columns and structure of the data set(head() shows first 5 rows)\n",
    "df.head()"
   ]
  },
  {
   "cell_type": "code",
   "execution_count": 5,
   "id": "299a8489-2d0f-4927-aa1d-2e3031335f84",
   "metadata": {},
   "outputs": [
    {
     "name": "stdout",
     "output_type": "stream",
     "text": [
      "<class 'pandas.core.frame.DataFrame'>\n",
      "RangeIndex: 1260 entries, 0 to 1259\n",
      "Data columns (total 10 columns):\n",
      " #   Column             Non-Null Count  Dtype  \n",
      "---  ------             --------------  -----  \n",
      " 0   employee_id        1260 non-null   object \n",
      " 1   first_name         1100 non-null   object \n",
      " 2   last_name          1208 non-null   object \n",
      " 3   email              1149 non-null   object \n",
      " 4   phone              1260 non-null   object \n",
      " 5   department         1260 non-null   object \n",
      " 6   job_title          1260 non-null   object \n",
      " 7   salary             1125 non-null   float64\n",
      " 8   join_date          1150 non-null   object \n",
      " 9   performance_score  1133 non-null   float64\n",
      "dtypes: float64(2), object(8)\n",
      "memory usage: 98.6+ KB\n"
     ]
    }
   ],
   "source": [
    "df.info()"
   ]
  },
  {
   "cell_type": "code",
   "execution_count": 6,
   "id": "e97d4e29-ad8b-40c0-b650-4002f6357a10",
   "metadata": {},
   "outputs": [
    {
     "data": {
      "text/html": [
       "<div>\n",
       "<style scoped>\n",
       "    .dataframe tbody tr th:only-of-type {\n",
       "        vertical-align: middle;\n",
       "    }\n",
       "\n",
       "    .dataframe tbody tr th {\n",
       "        vertical-align: top;\n",
       "    }\n",
       "\n",
       "    .dataframe thead th {\n",
       "        text-align: right;\n",
       "    }\n",
       "</style>\n",
       "<table border=\"1\" class=\"dataframe\">\n",
       "  <thead>\n",
       "    <tr style=\"text-align: right;\">\n",
       "      <th></th>\n",
       "      <th>salary</th>\n",
       "      <th>performance_score</th>\n",
       "    </tr>\n",
       "  </thead>\n",
       "  <tbody>\n",
       "    <tr>\n",
       "      <th>count</th>\n",
       "      <td>1125.000000</td>\n",
       "      <td>1133.000000</td>\n",
       "    </tr>\n",
       "    <tr>\n",
       "      <th>mean</th>\n",
       "      <td>80578.008000</td>\n",
       "      <td>2.984996</td>\n",
       "    </tr>\n",
       "    <tr>\n",
       "      <th>std</th>\n",
       "      <td>19560.159354</td>\n",
       "      <td>1.394951</td>\n",
       "    </tr>\n",
       "    <tr>\n",
       "      <th>min</th>\n",
       "      <td>15174.000000</td>\n",
       "      <td>1.000000</td>\n",
       "    </tr>\n",
       "    <tr>\n",
       "      <th>25%</th>\n",
       "      <td>67488.000000</td>\n",
       "      <td>2.000000</td>\n",
       "    </tr>\n",
       "    <tr>\n",
       "      <th>50%</th>\n",
       "      <td>80939.000000</td>\n",
       "      <td>3.000000</td>\n",
       "    </tr>\n",
       "    <tr>\n",
       "      <th>75%</th>\n",
       "      <td>93046.000000</td>\n",
       "      <td>4.000000</td>\n",
       "    </tr>\n",
       "    <tr>\n",
       "      <th>max</th>\n",
       "      <td>157054.000000</td>\n",
       "      <td>5.000000</td>\n",
       "    </tr>\n",
       "  </tbody>\n",
       "</table>\n",
       "</div>"
      ],
      "text/plain": [
       "              salary  performance_score\n",
       "count    1125.000000        1133.000000\n",
       "mean    80578.008000           2.984996\n",
       "std     19560.159354           1.394951\n",
       "min     15174.000000           1.000000\n",
       "25%     67488.000000           2.000000\n",
       "50%     80939.000000           3.000000\n",
       "75%     93046.000000           4.000000\n",
       "max    157054.000000           5.000000"
      ]
     },
     "execution_count": 6,
     "metadata": {},
     "output_type": "execute_result"
    }
   ],
   "source": [
    "df.describe()"
   ]
  },
  {
   "cell_type": "markdown",
   "id": "556e5dbb-ccee-411e-82ed-953453e0fd35",
   "metadata": {},
   "source": [
    "### 1) Missing Salary Imputation:"
   ]
  },
  {
   "cell_type": "code",
   "execution_count": 8,
   "id": "3904cc6b-6c04-47b5-806c-f413347c3244",
   "metadata": {},
   "outputs": [
    {
     "data": {
      "text/plain": [
       "0"
      ]
     },
     "execution_count": 8,
     "metadata": {},
     "output_type": "execute_result"
    }
   ],
   "source": [
    "# Impute missing salary values using the median salary for each department\n",
    "df['salary'] = df.groupby('department')['salary'].transform(lambda x: x.fillna(x.median()))\n",
    "\n",
    "# Check if missing values still exist in salary column\n",
    "df['salary'].isnull().sum()"
   ]
  },
  {
   "cell_type": "markdown",
   "id": "6704b77e-ac35-47de-8710-648e06d909ea",
   "metadata": {},
   "source": [
    "### 2) Duplicate Employee ID Check:"
   ]
  },
  {
   "cell_type": "code",
   "execution_count": 10,
   "id": "ecc67422-3992-41c8-b0b3-184e8ac2907d",
   "metadata": {},
   "outputs": [
    {
     "name": "stdout",
     "output_type": "stream",
     "text": [
      "Duplicate Employee IDs: \n",
      " ['EMP0018' 'EMP0037' 'EMP0052' 'EMP0054' 'EMP0064' 'EMP0096' 'EMP0103'\n",
      " 'EMP0135' 'EMP0145' 'EMP0150' 'EMP0191' 'EMP0193' 'EMP0195' 'EMP0215'\n",
      " 'EMP0247' 'EMP0257' 'EMP0265' 'EMP0267' 'EMP0271' 'EMP0275' 'EMP0292'\n",
      " 'EMP0306' 'EMP0332' 'EMP0346' 'EMP0347' 'EMP0379' 'EMP0396' 'EMP0417'\n",
      " 'EMP0438' 'EMP0458' 'EMP0468' 'EMP0478' 'EMP0487' 'EMP0492' 'EMP0567'\n",
      " 'EMP0579' 'EMP0582' 'EMP0586' 'EMP0595' 'EMP0635' 'EMP0699' 'EMP0706'\n",
      " 'EMP0718' 'EMP0745' 'EMP0750' 'EMP0760' 'EMP0802' 'EMP0824' 'EMP0878'\n",
      " 'EMP0888' 'EMP0903' 'EMP0918' 'EMP0979' 'EMP1029' 'EMP1037' 'EMP1055'\n",
      " 'EMP1061' 'EMP1076' 'EMP1091' 'EMP1126']\n"
     ]
    }
   ],
   "source": [
    "# Identify and list all employee_id values that appear more than once\n",
    "\n",
    "# Find duplicate employee IDs\n",
    "duplicate_ids = df[df.duplicated(subset=['employee_id'], keep=False)]['employee_id'].unique()\n",
    "\n",
    "# Print duplicate employee IDs\n",
    "print(\"Duplicate Employee IDs:\", '\\n', duplicate_ids)"
   ]
  },
  {
   "cell_type": "markdown",
   "id": "a113c9c7-9f75-4356-b94a-e786f4efe47e",
   "metadata": {},
   "source": [
    "### 3) Performance Score Conversion:"
   ]
  },
  {
   "cell_type": "code",
   "execution_count": 12,
   "id": "85af6d4e-17fb-4559-b3a1-83a212068a82",
   "metadata": {},
   "outputs": [],
   "source": [
    "# Performance Score Conversion: Convert to integer, replace NaN or non-numeric values with -1\n",
    "df['performance_score'] = pd.to_numeric(df['performance_score'], errors='coerce').fillna(-1).astype(int)"
   ]
  },
  {
   "cell_type": "markdown",
   "id": "302bce1a-1326-4363-851b-aae0549e0e55",
   "metadata": {},
   "source": [
    "### 4) Date Format Standardization:"
   ]
  },
  {
   "cell_type": "code",
   "execution_count": 14,
   "id": "72564b4b-da75-4920-9179-8982fab901c0",
   "metadata": {},
   "outputs": [
    {
     "name": "stdout",
     "output_type": "stream",
     "text": [
      "       join_date  join_year\n",
      "0     2022-09-06       2022\n",
      "1     2024-07-05       2024\n",
      "2     2022-11-02       2022\n",
      "3     2024-09-21       2024\n",
      "4     2023-07-29       2023\n",
      "...          ...        ...\n",
      "1255  2023-10-15       2023\n",
      "1256  2022-05-22       2022\n",
      "1257  2020-05-30       2020\n",
      "1258  2024-03-13       2024\n",
      "1259  2021-01-03       2021\n",
      "\n",
      "[1134 rows x 2 columns]\n"
     ]
    }
   ],
   "source": [
    "# Date Format Standardization: Convert join_date to YYYY-MM-DD format\n",
    "df['join_date'] = pd.to_datetime(df['join_date'], errors='coerce').dt.strftime('%Y-%m-%d')\n",
    "# Remove rows with invalid join_date\n",
    "df = df.dropna(subset=['join_date'])\n",
    "df['join_year'] = df['join_date'].str[:4].astype(int)\n",
    "# Display the updated DataFrame\n",
    "print(df[['join_date', 'join_year']])"
   ]
  },
  {
   "cell_type": "markdown",
   "id": "fb6ba5f5-f359-4eab-b460-2ff1b1d1451c",
   "metadata": {},
   "source": [
    "### 5) Department Typo Correction:"
   ]
  },
  {
   "cell_type": "code",
   "execution_count": 16,
   "id": "5f0df779-d44f-4559-826d-24eabc766e0e",
   "metadata": {},
   "outputs": [
    {
     "data": {
      "text/plain": [
       "9"
      ]
     },
     "execution_count": 16,
     "metadata": {},
     "output_type": "execute_result"
    }
   ],
   "source": [
    "# knowing the different unique department names in the dataset \n",
    "df.department.unique()\n",
    "len(df.department.unique())"
   ]
  },
  {
   "cell_type": "code",
   "execution_count": 17,
   "id": "7ab8117b-d27d-4f0f-bc77-d2e0f1b530fe",
   "metadata": {},
   "outputs": [],
   "source": [
    "# Department Typo Correction: Fix known typos\n",
    "department_corrections = {'Enginering': 'Engineering','Marketing': 'Marketting'}\n",
    "df['department'] = df['department'].replace(department_corrections)"
   ]
  },
  {
   "cell_type": "code",
   "execution_count": 18,
   "id": "355c42dc-eba9-456c-bf2a-f1a6a59a5dc3",
   "metadata": {},
   "outputs": [
    {
     "data": {
      "text/plain": [
       "7"
      ]
     },
     "execution_count": 18,
     "metadata": {},
     "output_type": "execute_result"
    }
   ],
   "source": [
    "# Print the unique values to verify corrections\n",
    "df.department.unique()\n",
    "len(df.department.unique())"
   ]
  },
  {
   "cell_type": "markdown",
   "id": "d8821bcb-4e0b-4a59-b38e-a0b05fd37a2b",
   "metadata": {},
   "source": [
    "### 6) Salary Outlier Removal:"
   ]
  },
  {
   "cell_type": "code",
   "execution_count": 20,
   "id": "687c6c22-9e41-4d68-b807-a29497a2e3b4",
   "metadata": {},
   "outputs": [
    {
     "name": "stdout",
     "output_type": "stream",
     "text": [
      "Original dataset size: 1134\n",
      "Filtered dataset size: 1132\n",
      "Number of outliers removed: 2\n"
     ]
    }
   ],
   "source": [
    "# Calculate mean and standard deviation of salary\n",
    "mean_salary = df['salary'].mean()\n",
    "std_salary = df['salary'].std()\n",
    "\n",
    "# Define upper bound for outlier removal\n",
    "upper_bound = mean_salary + (3 * std_salary)\n",
    "\n",
    "# Remove outliers (only salaries greater than the upper bound)\n",
    "df_filtered = df[df['salary'] <= upper_bound]\n",
    "\n",
    "# Display results\n",
    "print(f\"Original dataset size: {df.shape[0]}\")\n",
    "print(f\"Filtered dataset size: {df_filtered.shape[0]}\")\n",
    "print(f\"Number of outliers removed: {df.shape[0] - df_filtered.shape[0]}\")"
   ]
  },
  {
   "cell_type": "markdown",
   "id": "98429386-cf1b-481d-b8ff-2596bb6ddbe9",
   "metadata": {},
   "source": [
    "### Calculating the mean and standard deviation <font color=\"red\">before!</font> removing any outliers"
   ]
  },
  {
   "cell_type": "code",
   "execution_count": 22,
   "id": "fbeec20d-e4ab-4cb6-a348-4823745bad58",
   "metadata": {},
   "outputs": [
    {
     "data": {
      "text/plain": [
       "count      1134.000000\n",
       "mean      80527.694444\n",
       "std       18418.616407\n",
       "min       15174.000000\n",
       "25%       68903.750000\n",
       "50%       80705.000000\n",
       "75%       91722.250000\n",
       "max      157054.000000\n",
       "Name: salary, dtype: float64"
      ]
     },
     "execution_count": 22,
     "metadata": {},
     "output_type": "execute_result"
    }
   ],
   "source": [
    "df.salary.describe()"
   ]
  },
  {
   "cell_type": "markdown",
   "id": "89a3e0e5-eea4-4fc2-8a04-23ea36a8d198",
   "metadata": {},
   "source": [
    "### Calculating the mean and standard deviation <font color=\"red\">after! </font> removing the outliers"
   ]
  },
  {
   "cell_type": "code",
   "execution_count": 24,
   "id": "8393cea7-c297-47fc-bacc-155eff37fc70",
   "metadata": {},
   "outputs": [
    {
     "data": {
      "text/plain": [
       "count      1132.000000\n",
       "mean      80406.161219\n",
       "std       18203.221104\n",
       "min       15174.000000\n",
       "25%       68877.250000\n",
       "50%       80705.000000\n",
       "75%       91575.250000\n",
       "max      132647.000000\n",
       "Name: salary, dtype: float64"
      ]
     },
     "execution_count": 24,
     "metadata": {},
     "output_type": "execute_result"
    }
   ],
   "source": [
    "df_filtered.salary.describe()"
   ]
  },
  {
   "cell_type": "markdown",
   "id": "4a7c037c-0d56-484e-a0dd-cc4db6b650b5",
   "metadata": {},
   "source": [
    "### 7) Email Domain Extraction:"
   ]
  },
  {
   "cell_type": "code",
   "execution_count": 26,
   "id": "cf0cb0e5-1975-4c19-a53e-c46dda0e7c5a",
   "metadata": {},
   "outputs": [
    {
     "name": "stdout",
     "output_type": "stream",
     "text": [
      "                             email email_domain\n",
      "0       anthonyhubbard@example.com  example.com\n",
      "1         bonniethomas@example.com  example.com\n",
      "2              smiller@example.net  example.net\n",
      "3             joseph51@example.net  example.net\n",
      "4            mariepope@example.net  example.net\n",
      "...                            ...          ...\n",
      "1255           afisher@example.com  example.com\n",
      "1256       robertjones@example.com  example.com\n",
      "1257  reynoldsmichelle@example.org  example.org\n",
      "1258                           NaN         None\n",
      "1259        lynchdiane@example.net  example.net\n",
      "\n",
      "[1134 rows x 2 columns]\n"
     ]
    }
   ],
   "source": [
    "# Extract domain from email, handling missing or invalid values\n",
    "df['email_domain'] = df['email'].apply(lambda x: x.split('@')[-1] if isinstance(x, str) and '@' in x else None)\n",
    "\n",
    "# Display the updated DataFrame with email and extracted domain\n",
    "print(df[['email', 'email_domain']])"
   ]
  },
  {
   "cell_type": "markdown",
   "id": "f8721f84-0e9e-480b-be66-adb62a3c2de1",
   "metadata": {},
   "source": [
    "### 8) Salary Correlation Calculation:"
   ]
  },
  {
   "cell_type": "code",
   "execution_count": 28,
   "id": "a7b93345-af35-4df4-ba44-0b61a73498f1",
   "metadata": {},
   "outputs": [
    {
     "name": "stdout",
     "output_type": "stream",
     "text": [
      "Salary-Join Year Correlation: 0.012061828206889112\n"
     ]
    }
   ],
   "source": [
    "#Salary Correlation Calculation: Compute Pearson correlation\n",
    "correlation = df[['salary', 'join_year']].corr().loc['salary', 'join_year']\n",
    "print(\"Salary-Join Year Correlation:\", correlation)"
   ]
  },
  {
   "cell_type": "markdown",
   "id": "d2af4666-0db7-48d9-b986-5b3533f293c0",
   "metadata": {},
   "source": [
    "### 9) Average Salary Aggregation:"
   ]
  },
  {
   "cell_type": "code",
   "execution_count": 30,
   "id": "fb84f84f-4958-4767-a1db-7506f1a263a1",
   "metadata": {},
   "outputs": [
    {
     "name": "stdout",
     "output_type": "stream",
     "text": [
      "job_title    Director Analyst  Director Consultant  Director Engineer  \\\n",
      "department                                                              \n",
      "Engineering      85111.200000         88926.250000       79945.444444   \n",
      "Finance          79695.714286         85475.666667       84891.555556   \n",
      "HR               82754.636364         79135.285714       70093.857143   \n",
      "IT               76903.363636         90364.400000       76453.857143   \n",
      "Marketting       76517.428571         76465.500000       79329.181818   \n",
      "Operations       87076.208333         80941.000000       94778.750000   \n",
      "Sales            75914.571429         80046.083333       74522.750000   \n",
      "\n",
      "job_title    Director Manager  Junior Analyst  Junior Consultant  \\\n",
      "department                                                         \n",
      "Engineering      87945.000000    75531.500000       89315.000000   \n",
      "Finance          90154.500000    80370.187500       90413.900000   \n",
      "HR               78207.000000    77863.444444       84401.750000   \n",
      "IT               61862.000000    86084.888889       75242.750000   \n",
      "Marketting       77597.333333    90025.333333       88817.000000   \n",
      "Operations       80882.090909    84956.888889       71753.416667   \n",
      "Sales            83162.142857    82035.333333       71662.285714   \n",
      "\n",
      "job_title    Junior Engineer  Junior Manager  Lead Analyst  Lead Consultant  \\\n",
      "department                                                                    \n",
      "Engineering     75694.466667    81258.777778  88536.416667     91025.166667   \n",
      "Finance         81377.750000    61954.500000  80503.625000     69922.800000   \n",
      "HR              91875.750000    76312.600000  71471.090909     85742.875000   \n",
      "IT              87618.833333    78152.875000  73513.500000     76460.375000   \n",
      "Marketting      90265.833333    90887.600000  81806.200000     66082.625000   \n",
      "Operations      79008.071429    81959.125000  90847.500000     71291.208333   \n",
      "Sales           86470.400000    86882.250000  76244.500000     92062.272727   \n",
      "\n",
      "job_title    Lead Engineer  Lead Manager  Manager Analyst  Manager Consultant  \\\n",
      "department                                                                      \n",
      "Engineering   83242.888889  72874.400000     60108.200000        83071.500000   \n",
      "Finance       77355.600000  87555.142857     77576.500000        79685.571429   \n",
      "HR            85942.818182  80071.166667     61347.000000        77102.750000   \n",
      "IT            77277.000000  83334.400000     83041.500000       101461.250000   \n",
      "Marketting    92537.714286  89838.111111     84557.857143        74741.833333   \n",
      "Operations    77131.944444  86603.100000     74241.800000        74570.222222   \n",
      "Sales         86023.666667  77504.666667     71336.500000        78246.444444   \n",
      "\n",
      "job_title    Manager Engineer  Manager Manager  Senior Analyst  \\\n",
      "department                                                       \n",
      "Engineering      80792.076923     70045.400000    87117.125000   \n",
      "Finance          80202.555556     88440.166667    88541.500000   \n",
      "HR               82605.000000     65264.444444    81254.000000   \n",
      "IT               77173.461538     92079.500000    77045.307692   \n",
      "Marketting       70557.800000     79974.222222    78537.333333   \n",
      "Operations       82923.807692     76997.363636    75153.888889   \n",
      "Sales            78299.916667     89595.285714    84942.000000   \n",
      "\n",
      "job_title    Senior Consultant  Senior Engineer  Senior Manager  \n",
      "department                                                       \n",
      "Engineering       85240.000000     85090.666667    76519.200000  \n",
      "Finance           72655.000000     85116.111111    66044.800000  \n",
      "HR                74589.333333     61696.000000    66040.444444  \n",
      "IT                86925.666667     90513.916667    70629.800000  \n",
      "Marketting        79096.400000     80830.250000    83242.363636  \n",
      "Operations        92407.000000     78637.666667    80326.636364  \n",
      "Sales             81481.142857     84448.444444    91659.333333  \n"
     ]
    }
   ],
   "source": [
    "#Average Salary Aggregation: Compute pivot table\n",
    "department_salary_pivot = df.pivot_table(index='department', columns='job_title', values='salary', aggfunc='mean')\n",
    "print(department_salary_pivot)"
   ]
  },
  {
   "cell_type": "markdown",
   "id": "60399b27-82e4-45e1-9d36-659fc261b148",
   "metadata": {},
   "source": [
    "### 10) Duplicate Row Removal:"
   ]
  },
  {
   "cell_type": "code",
   "execution_count": 32,
   "id": "38ca13aa-1782-4f95-bb35-082e21633e7a",
   "metadata": {},
   "outputs": [
    {
     "name": "stdout",
     "output_type": "stream",
     "text": [
      "Duplicates removed. Remaining duplicates: 0\n"
     ]
    }
   ],
   "source": [
    "# Duplicate Row Removal: Drop duplicate rows\n",
    "df = df.drop_duplicates()\n",
    "print(\"Duplicates removed. Remaining duplicates:\", df.duplicated().sum())"
   ]
  },
  {
   "cell_type": "code",
   "execution_count": 33,
   "id": "d48aad2a-daca-423b-82ca-e1db700bc354",
   "metadata": {},
   "outputs": [],
   "source": [
    "# Save the cleaned data\n",
    "df.to_csv(\"cleaned_empd.csv\", index=False)"
   ]
  },
  {
   "cell_type": "code",
   "execution_count": null,
   "id": "55525c17-867f-4f2a-9b0e-20be79a851bf",
   "metadata": {},
   "outputs": [],
   "source": []
  }
 ],
 "metadata": {
  "kernelspec": {
   "display_name": "Python 3 (ipykernel)",
   "language": "python",
   "name": "python3"
  },
  "language_info": {
   "codemirror_mode": {
    "name": "ipython",
    "version": 3
   },
   "file_extension": ".py",
   "mimetype": "text/x-python",
   "name": "python",
   "nbconvert_exporter": "python",
   "pygments_lexer": "ipython3",
   "version": "3.12.4"
  }
 },
 "nbformat": 4,
 "nbformat_minor": 5
}
